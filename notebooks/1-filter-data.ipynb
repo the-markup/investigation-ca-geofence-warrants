{
 "cells": [
  {
   "cell_type": "code",
   "execution_count": 1,
   "id": "e7bac42f",
   "metadata": {},
   "outputs": [],
   "source": [
    "import pandas as pd"
   ]
  },
  {
   "cell_type": "code",
   "execution_count": 2,
   "id": "96aa8513",
   "metadata": {},
   "outputs": [
    {
     "name": "stdout",
     "output_type": "stream",
     "text": [
      "Index(['Agency Name:', 'County of Court', 'Warrant Number', 'Submitted',\n",
      "       'Nature of the investigation', 'Primary Nature',\n",
      "       'Crime of Violence Options', 'Secondary Nature', 'Order Served on',\n",
      "       'Business Name', 'Items to be searched for:', 'Start Date for Info',\n",
      "       'End Date for Info', 'Grounds for Issuance',\n",
      "       'Reasons for Delay (if any)', 'Emergency?',\n",
      "       'Facts giving rise to the emergency'],\n",
      "      dtype='object')\n"
     ]
    }
   ],
   "source": [
    "folder = '../data/ca-doj'\n",
    "\n",
    "warrants = pd.read_csv(f'{folder}/electronic-search-warrant-notifications.csv')\n",
    "print(warrants.columns)\n",
    "warrants['fn'] = 'electronic-search-warrant-notifications.csv'\n",
    "for i in range(7,10):\n",
    "    fn = f\"eswn201{i}.xlsx\"\n",
    "    df = pd.read_excel(f\"{folder}/{fn}\")\n",
    "    df['fn'] = fn\n",
    "    warrants = pd.concat([warrants, df]).copy()\n",
    "\n",
    "warrants['Start Date for Info'] = warrants['Start Date for Info'].apply(pd.to_datetime)\n",
    "warrants['End Date for Info'] = warrants['End Date for Info'].apply(pd.to_datetime)\n",
    "warrants['Submitted'] = warrants['Submitted'].apply(pd.to_datetime)\n",
    "warrants['Submitted Year'] = warrants['Submitted'].dt.year"
   ]
  },
  {
   "cell_type": "markdown",
   "id": "2af15c5e",
   "metadata": {},
   "source": [
    "### Filter down based item definition language"
   ]
  },
  {
   "cell_type": "code",
   "execution_count": 3,
   "id": "396e6e80",
   "metadata": {},
   "outputs": [],
   "source": [
    "geofence = pd.read_csv('../data/geofence-references-key.csv')\n",
    "geofence = geofence[geofence['Probable Geofence Reference'].eq('Y')]\n",
    "\n",
    "def is_geofence(l):\n",
    "    for i in l:\n",
    "        if i in list(geofence['Item to Search']):\n",
    "            return True\n",
    "    return False\n",
    "\n",
    "warrants['References Geofence/Reverse Location'] = warrants['Items to be searched for:'].str.lower().str.split('\\n').apply(is_geofence)"
   ]
  },
  {
   "cell_type": "code",
   "execution_count": 92,
   "id": "e8597c4f",
   "metadata": {},
   "outputs": [],
   "source": [
    "gf = warrants[warrants['References Geofence/Reverse Location']].sort_values(by='Submitted Year')"
   ]
  },
  {
   "cell_type": "code",
   "execution_count": 93,
   "id": "965cc735",
   "metadata": {},
   "outputs": [],
   "source": [
    "gf.to_csv('../output/probable-geofence-warrants-items-raw.csv', index=False)"
   ]
  },
  {
   "cell_type": "markdown",
   "id": "23821f00",
   "metadata": {},
   "source": [
    "We then manually reviewed the raw data."
   ]
  },
  {
   "cell_type": "code",
   "execution_count": 76,
   "id": "faa67f7d",
   "metadata": {},
   "outputs": [],
   "source": [
    "geo = pd.read_csv(\"../data/probable-items-geofence-warrants.csv\")"
   ]
  },
  {
   "cell_type": "markdown",
   "id": "0f3a6c3e",
   "metadata": {},
   "source": [
    "We also looked for warrants with similar keywords as the above in the `Nature of the investigation` column."
   ]
  },
  {
   "cell_type": "code",
   "execution_count": 87,
   "id": "a01560a4",
   "metadata": {},
   "outputs": [],
   "source": [
    "warrants[\n",
    "    warrants['Nature of the investigation'].str.lower().str.replace(' ', '').str.contains('geofence').eq(True) |\n",
    "    warrants['Nature of the investigation'].str.lower().str.replace(' ', '').str.contains('reverse').eq(True) | \n",
    "    warrants['Nature of the investigation'].str.lower().str.replace(' ', '').str.contains('deviceid').eq(True) | \n",
    "    warrants['Nature of the investigation'].str.lower().str.replace(' ', '').str.contains('anonymous').eq(True) |\n",
    "    warrants['Nature of the investigation'].str.lower().str.replace(' ', '').str.contains('anonymized').eq(True) |\n",
    "    warrants['Nature of the investigation'].str.lower().str.replace(' ', '').str.contains('certainarea').eq(True) |\n",
    "    warrants['Nature of the investigation'].str.lower().str.replace(' ', '').str.contains('geographic').eq(True)\n",
    "].to_csv('../output/probable-geofence-warrants-nature-raw.csv')"
   ]
  },
  {
   "cell_type": "markdown",
   "id": "3029fd09",
   "metadata": {},
   "source": [
    "We then manually reviewed that data and combined it with the `Items to be searched for:` data."
   ]
  },
  {
   "cell_type": "code",
   "execution_count": 88,
   "id": "c507e094",
   "metadata": {},
   "outputs": [],
   "source": [
    "geo = pd.concat([geo, pd.read_csv(\"../data/probable-nature-geofence-warrants.csv\")]).copy()\n",
    "geo = geo.drop_duplicates()"
   ]
  },
  {
   "cell_type": "code",
   "execution_count": 89,
   "id": "405fd194",
   "metadata": {},
   "outputs": [
    {
     "data": {
      "text/html": [
       "<div>\n",
       "<style scoped>\n",
       "    .dataframe tbody tr th:only-of-type {\n",
       "        vertical-align: middle;\n",
       "    }\n",
       "\n",
       "    .dataframe tbody tr th {\n",
       "        vertical-align: top;\n",
       "    }\n",
       "\n",
       "    .dataframe thead th {\n",
       "        text-align: right;\n",
       "    }\n",
       "</style>\n",
       "<table border=\"1\" class=\"dataframe\">\n",
       "  <thead>\n",
       "    <tr style=\"text-align: right;\">\n",
       "      <th></th>\n",
       "      <th>Submitted</th>\n",
       "    </tr>\n",
       "    <tr>\n",
       "      <th>Submitted Year</th>\n",
       "      <th></th>\n",
       "    </tr>\n",
       "  </thead>\n",
       "  <tbody>\n",
       "    <tr>\n",
       "      <th>2018</th>\n",
       "      <td>1</td>\n",
       "    </tr>\n",
       "    <tr>\n",
       "      <th>2019</th>\n",
       "      <td>31</td>\n",
       "    </tr>\n",
       "    <tr>\n",
       "      <th>2020</th>\n",
       "      <td>9</td>\n",
       "    </tr>\n",
       "    <tr>\n",
       "      <th>2021</th>\n",
       "      <td>16</td>\n",
       "    </tr>\n",
       "  </tbody>\n",
       "</table>\n",
       "</div>"
      ],
      "text/plain": [
       "                Submitted\n",
       "Submitted Year           \n",
       "2018                    1\n",
       "2019                   31\n",
       "2020                    9\n",
       "2021                   16"
      ]
     },
     "execution_count": 89,
     "metadata": {},
     "output_type": "execute_result"
    }
   ],
   "source": [
    "geo.groupby('Submitted Year').count()[['Submitted']]"
   ]
  },
  {
   "cell_type": "code",
   "execution_count": 90,
   "id": "43ce705d",
   "metadata": {},
   "outputs": [],
   "source": [
    "geo.sort_values(by=\"Submitted\").to_csv(\"../data/probable-geofence-warrants.csv\", index=False)"
   ]
  },
  {
   "cell_type": "markdown",
   "id": "b1276bce",
   "metadata": {},
   "source": [
    "### Filter based on corporate mentions"
   ]
  },
  {
   "cell_type": "code",
   "execution_count": 91,
   "id": "26a3767d",
   "metadata": {},
   "outputs": [],
   "source": [
    "def contains_google(row):\n",
    "    truth = 0\n",
    "    for key in row.keys():\n",
    "        s = str(row[key])\n",
    "        truth += 'google' in s.lower()\n",
    "    return bool(truth)\n",
    "\n",
    "cf = warrants[warrants.apply(contains_google, axis=1)].sort_values(by='Submitted Year')"
   ]
  },
  {
   "cell_type": "code",
   "execution_count": 13,
   "id": "8b7e8b3b",
   "metadata": {},
   "outputs": [
    {
     "name": "stdout",
     "output_type": "stream",
     "text": [
      "\n"
     ]
    },
    {
     "data": {
      "text/html": [
       "<div>\n",
       "<style scoped>\n",
       "    .dataframe tbody tr th:only-of-type {\n",
       "        vertical-align: middle;\n",
       "    }\n",
       "\n",
       "    .dataframe tbody tr th {\n",
       "        vertical-align: top;\n",
       "    }\n",
       "\n",
       "    .dataframe thead th {\n",
       "        text-align: right;\n",
       "    }\n",
       "</style>\n",
       "<table border=\"1\" class=\"dataframe\">\n",
       "  <thead>\n",
       "    <tr style=\"text-align: right;\">\n",
       "      <th></th>\n",
       "      <th>Submitted</th>\n",
       "    </tr>\n",
       "    <tr>\n",
       "      <th>Submitted Year</th>\n",
       "      <th></th>\n",
       "    </tr>\n",
       "  </thead>\n",
       "  <tbody>\n",
       "    <tr>\n",
       "      <th>2017</th>\n",
       "      <td>67</td>\n",
       "    </tr>\n",
       "    <tr>\n",
       "      <th>2018</th>\n",
       "      <td>65</td>\n",
       "    </tr>\n",
       "    <tr>\n",
       "      <th>2019</th>\n",
       "      <td>168</td>\n",
       "    </tr>\n",
       "    <tr>\n",
       "      <th>2020</th>\n",
       "      <td>186</td>\n",
       "    </tr>\n",
       "    <tr>\n",
       "      <th>2021</th>\n",
       "      <td>164</td>\n",
       "    </tr>\n",
       "  </tbody>\n",
       "</table>\n",
       "</div>"
      ],
      "text/plain": [
       "                Submitted\n",
       "Submitted Year           \n",
       "2017                   67\n",
       "2018                   65\n",
       "2019                  168\n",
       "2020                  186\n",
       "2021                  164"
      ]
     },
     "execution_count": 13,
     "metadata": {},
     "output_type": "execute_result"
    }
   ],
   "source": [
    "print()\n",
    "cf.groupby('Submitted Year').count()[['Submitted']]"
   ]
  },
  {
   "cell_type": "code",
   "execution_count": 14,
   "id": "803a140d",
   "metadata": {},
   "outputs": [],
   "source": [
    "cf.to_csv('../data/calecpa-google-warrants.csv', index=False)"
   ]
  }
 ],
 "metadata": {
  "kernelspec": {
   "display_name": "Python 3 (ipykernel)",
   "language": "python",
   "name": "python3"
  },
  "language_info": {
   "codemirror_mode": {
    "name": "ipython",
    "version": 3
   },
   "file_extension": ".py",
   "mimetype": "text/x-python",
   "name": "python",
   "nbconvert_exporter": "python",
   "pygments_lexer": "ipython3",
   "version": "3.9.6"
  }
 },
 "nbformat": 4,
 "nbformat_minor": 5
}
