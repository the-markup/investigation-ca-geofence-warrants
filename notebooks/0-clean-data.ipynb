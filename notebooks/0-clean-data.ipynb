{
 "cells": [
  {
   "cell_type": "code",
   "execution_count": 1,
   "id": "df4d8ea5",
   "metadata": {},
   "outputs": [],
   "source": [
    "import pandas as pd"
   ]
  },
  {
   "cell_type": "code",
   "execution_count": 2,
   "id": "2067c1e5",
   "metadata": {},
   "outputs": [
    {
     "name": "stdout",
     "output_type": "stream",
     "text": [
      "Index(['Agency Name:', 'County of Court', 'Warrant Number', 'Submitted',\n",
      "       'Nature of the investigation', 'Primary Nature',\n",
      "       'Crime of Violence Options', 'Secondary Nature', 'Order Served on',\n",
      "       'Business Name', 'Items to be searched for:', 'Start Date for Info',\n",
      "       'End Date for Info', 'Grounds for Issuance',\n",
      "       'Reasons for Delay (if any)', 'Emergency?',\n",
      "       'Facts giving rise to the emergency'],\n",
      "      dtype='object')\n",
      "Index(['Agency Name:', 'County of Court', 'Submitted',\n",
      "       'Nature of the investigation', 'Order Served on', 'Business Name',\n",
      "       'Items to be searched for:', 'Start Date for Info', 'End Date for Info',\n",
      "       'Grounds for Issuance', 'Reasons for Delay (if any)', 'Emergency?',\n",
      "       'Facts giving rise to the emergency', 'fn'],\n",
      "      dtype='object')\n",
      "Index(['Agency Name:', 'County of Court', 'Warrant Number', 'Submitted',\n",
      "       'Nature of the investigation', 'Primary Nature',\n",
      "       'Crime of Violence Options', 'Secondary Nature', 'Order Served on',\n",
      "       'Business Name', 'Items to be searched for:', 'Start Date for Info',\n",
      "       'End Date for Info', 'Grounds for Issuance',\n",
      "       'Reasons for Delay (if any)', 'Emergency?',\n",
      "       'Facts giving rise to the emergency', 'fn'],\n",
      "      dtype='object')\n",
      "Index(['Agency Name:', 'County of Court', 'Warrant Number', 'Submitted',\n",
      "       'Nature of the investigation', 'Primary Nature',\n",
      "       'Crime of Violence Options', 'Secondary Nature', 'Order Served on',\n",
      "       'Business Name', 'Items to be searched for:', 'Start Date for Info',\n",
      "       'End Date for Info', 'Grounds for Issuance',\n",
      "       'Reasons for Delay (if any)', 'Emergency?',\n",
      "       'Facts giving rise to the emergency', 'fn'],\n",
      "      dtype='object')\n"
     ]
    }
   ],
   "source": [
    "folder = '../data/ca-doj'\n",
    "\n",
    "warrants = pd.read_csv(f'{folder}/electronic-search-warrant-notifications.csv')\n",
    "print(warrants.columns)\n",
    "warrants['fn'] = 'electronic-search-warrant-notifications.csv'\n",
    "for i in range(7,10):\n",
    "    fn = f\"eswn201{i}.xlsx\"\n",
    "    df = pd.read_excel(f\"{folder}/{fn}\")\n",
    "    df['fn'] = fn\n",
    "    print(df.columns)\n",
    "    warrants = pd.concat([warrants, df]).copy()"
   ]
  },
  {
   "cell_type": "code",
   "execution_count": 3,
   "id": "4a0d9132",
   "metadata": {},
   "outputs": [],
   "source": [
    "warrants['Start Date for Info'] = warrants['Start Date for Info'].apply(pd.to_datetime)\n",
    "warrants['End Date for Info'] = warrants['End Date for Info'].apply(pd.to_datetime)\n",
    "warrants['Submitted'] = warrants['Submitted'].apply(pd.to_datetime)\n",
    "warrants['Submitted Year'] = warrants['Submitted'].dt.year"
   ]
  },
  {
   "cell_type": "code",
   "execution_count": 4,
   "id": "77522382",
   "metadata": {},
   "outputs": [],
   "source": [
    "items = pd.DataFrame(list(\n",
    "    set(\n",
    "        warrants['Items to be searched for:'].str.lower().str.split('\\n').apply(lambda l: [s.strip() for s in l]).sum()\n",
    "    )\n",
    "), columns=['Item to Search'])\n",
    "\n",
    "items['Probable Geofence Reference'] = ''"
   ]
  },
  {
   "cell_type": "code",
   "execution_count": 5,
   "id": "8748da2e",
   "metadata": {},
   "outputs": [],
   "source": [
    "items.to_csv('../output/possible-geofence-references-raw.csv', index=False)"
   ]
  },
  {
   "cell_type": "code",
   "execution_count": null,
   "id": "39a88702",
   "metadata": {},
   "outputs": [],
   "source": []
  }
 ],
 "metadata": {
  "kernelspec": {
   "display_name": "Python 3 (ipykernel)",
   "language": "python",
   "name": "python3"
  },
  "language_info": {
   "codemirror_mode": {
    "name": "ipython",
    "version": 3
   },
   "file_extension": ".py",
   "mimetype": "text/x-python",
   "name": "python",
   "nbconvert_exporter": "python",
   "pygments_lexer": "ipython3",
   "version": "3.9.6"
  }
 },
 "nbformat": 4,
 "nbformat_minor": 5
}
